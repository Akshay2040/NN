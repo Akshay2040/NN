{
 "cells": [
  {
   "cell_type": "code",
   "execution_count": 166,
   "metadata": {},
   "outputs": [],
   "source": [
    "import numpy as np\n",
    "import pandas as pd\n",
    "from sklearn.preprocessing import StandardScaler\n",
    "import matplotlib.pyplot as plt\n",
    "%matplotlib inline\n"
   ]
  },
  {
   "cell_type": "code",
   "execution_count": 167,
   "metadata": {},
   "outputs": [],
   "source": [
    "df = pd.read_excel('Train_data.xlsx')"
   ]
  },
  {
   "cell_type": "code",
   "execution_count": 168,
   "metadata": {},
   "outputs": [
    {
     "data": {
      "text/html": [
       "<div>\n",
       "<style scoped>\n",
       "    .dataframe tbody tr th:only-of-type {\n",
       "        vertical-align: middle;\n",
       "    }\n",
       "\n",
       "    .dataframe tbody tr th {\n",
       "        vertical-align: top;\n",
       "    }\n",
       "\n",
       "    .dataframe thead th {\n",
       "        text-align: right;\n",
       "    }\n",
       "</style>\n",
       "<table border=\"1\" class=\"dataframe\">\n",
       "  <thead>\n",
       "    <tr style=\"text-align: right;\">\n",
       "      <th></th>\n",
       "      <th>Pressure</th>\n",
       "      <th>Z</th>\n",
       "      <th>ρ (density)\\n(g/cc)</th>\n",
       "      <th>µg</th>\n",
       "      <th>Bg\\n(RB/Mscf)</th>\n",
       "      <th>Cg</th>\n",
       "      <th>m(p)</th>\n",
       "    </tr>\n",
       "  </thead>\n",
       "  <tbody>\n",
       "    <tr>\n",
       "      <th>0</th>\n",
       "      <td>14.7</td>\n",
       "      <td>0.999689</td>\n",
       "      <td>0.000674</td>\n",
       "      <td>0.013708</td>\n",
       "      <td>234.674291</td>\n",
       "      <td>0.068116</td>\n",
       "      <td>1.576865e+04</td>\n",
       "    </tr>\n",
       "    <tr>\n",
       "      <th>1</th>\n",
       "      <td>100.0</td>\n",
       "      <td>0.992184</td>\n",
       "      <td>0.004619</td>\n",
       "      <td>0.013749</td>\n",
       "      <td>34.238131</td>\n",
       "      <td>0.010089</td>\n",
       "      <td>7.325434e+05</td>\n",
       "    </tr>\n",
       "    <tr>\n",
       "      <th>2</th>\n",
       "      <td>200.0</td>\n",
       "      <td>0.983623</td>\n",
       "      <td>0.009318</td>\n",
       "      <td>0.013822</td>\n",
       "      <td>16.971368</td>\n",
       "      <td>0.005087</td>\n",
       "      <td>2.936637e+06</td>\n",
       "    </tr>\n",
       "    <tr>\n",
       "      <th>3</th>\n",
       "      <td>300.0</td>\n",
       "      <td>0.975343</td>\n",
       "      <td>0.014096</td>\n",
       "      <td>0.013912</td>\n",
       "      <td>11.218999</td>\n",
       "      <td>0.003418</td>\n",
       "      <td>6.618632e+06</td>\n",
       "    </tr>\n",
       "    <tr>\n",
       "      <th>4</th>\n",
       "      <td>400.0</td>\n",
       "      <td>0.967364</td>\n",
       "      <td>0.018950</td>\n",
       "      <td>0.014017</td>\n",
       "      <td>8.345416</td>\n",
       "      <td>0.002582</td>\n",
       "      <td>1.177958e+07</td>\n",
       "    </tr>\n",
       "  </tbody>\n",
       "</table>\n",
       "</div>"
      ],
      "text/plain": [
       "   Pressure         Z  ρ (density)\\n(g/cc)        µg  Bg\\n(RB/Mscf)        Cg  \\\n",
       "0      14.7  0.999689             0.000674  0.013708     234.674291  0.068116   \n",
       "1     100.0  0.992184             0.004619  0.013749      34.238131  0.010089   \n",
       "2     200.0  0.983623             0.009318  0.013822      16.971368  0.005087   \n",
       "3     300.0  0.975343             0.014096  0.013912      11.218999  0.003418   \n",
       "4     400.0  0.967364             0.018950  0.014017       8.345416  0.002582   \n",
       "\n",
       "           m(p)  \n",
       "0  1.576865e+04  \n",
       "1  7.325434e+05  \n",
       "2  2.936637e+06  \n",
       "3  6.618632e+06  \n",
       "4  1.177958e+07  "
      ]
     },
     "execution_count": 168,
     "metadata": {},
     "output_type": "execute_result"
    }
   ],
   "source": [
    "df.head()"
   ]
  },
  {
   "cell_type": "code",
   "execution_count": 169,
   "metadata": {},
   "outputs": [],
   "source": [
    "X = df.drop('m(p)',axis=1).values\n",
    "#Dropped the column containing the m(p), and the .values command converts the data frame to a numpy array of shape (no. of examples, no. of features)\n",
    "Y = df['m(p)'].values\n",
    "X = StandardScaler().fit_transform(X)"
   ]
  },
  {
   "cell_type": "code",
   "execution_count": 170,
   "metadata": {},
   "outputs": [
    {
     "data": {
      "text/plain": [
       "array([[-1.69062069e+00, -4.95642529e-02, -1.95505567e+00,\n",
       "        -1.43517265e+00,  8.76359831e+00,  8.75374917e+00],\n",
       "       [-1.65428875e+00, -1.17869345e-01, -1.91066647e+00,\n",
       "        -1.42927004e+00,  1.11564017e+00,  1.13514887e+00],\n",
       "       [-1.61169563e+00, -1.95775829e-01, -1.85779019e+00,\n",
       "        -1.41895648e+00,  4.56799572e-01,  4.78470139e-01],\n",
       "       [-1.56910250e+00, -2.71135650e-01, -1.80403101e+00,\n",
       "        -1.40613991e+00,  2.37308852e-01,  2.59369862e-01],\n",
       "       [-1.52650938e+00, -3.43750159e-01, -1.74941772e+00,\n",
       "        -1.39123392e+00,  1.27662788e-01,  1.49642088e-01],\n",
       "       [-1.48391625e+00, -4.13437501e-01, -1.69398610e+00,\n",
       "        -1.37444334e+00,  6.19598488e-02,  8.36422970e-02],\n",
       "       [-1.44132313e+00, -4.80032161e-01, -1.63777879e+00,\n",
       "        -1.35588804e+00,  1.82324625e-02,  3.94901986e-02],\n",
       "       [-1.39873000e+00, -5.43384509e-01, -1.58084502e+00,\n",
       "        -1.33564526e+00, -1.29343723e-02,  7.80964266e-03],\n",
       "       [-1.35613688e+00, -6.03360352e-01, -1.52324035e+00,\n",
       "        -1.31376869e+00, -3.62484355e-02, -1.60864010e-02],\n",
       "       [-1.31354375e+00, -6.59840474e-01, -1.46502630e+00,\n",
       "        -1.29029854e+00, -5.43254013e-02, -3.48008537e-02],\n",
       "       [-1.27095063e+00, -7.12720191e-01, -1.40626990e+00,\n",
       "        -1.26526743e+00, -6.87348843e-02, -4.98945356e-02],\n",
       "       [-1.22835750e+00, -7.61908888e-01, -1.34704322e+00,\n",
       "        -1.23870421e+00, -8.04759153e-02, -6.23598105e-02],\n",
       "       [-1.18576438e+00, -8.07329574e-01, -1.28742282e+00,\n",
       "        -1.21063651e+00, -9.02146790e-02, -7.28574139e-02],\n",
       "       [-1.14317125e+00, -8.48918425e-01, -1.22748909e+00,\n",
       "        -1.18109251e+00, -9.84125269e-02, -8.18439813e-02],\n",
       "       [-1.10057813e+00, -8.86624331e-01, -1.16732562e+00,\n",
       "        -1.15010228e+00, -1.05399127e-01, -8.96449280e-02],\n",
       "       [-1.05798500e+00, -9.20408445e-01, -1.10701849e+00,\n",
       "        -1.11769873e+00, -1.11416354e-01, -9.64981834e-02],\n",
       "       [-1.01539188e+00, -9.50243724e-01, -1.04665547e+00,\n",
       "        -1.08391826e+00, -1.16645721e-01, -1.02581531e-01],\n",
       "       [-9.72798753e-01, -9.76114484e-01, -9.86325364e-01,\n",
       "        -1.04880130e+00, -1.21226129e-01, -1.08030304e-01],\n",
       "       [-9.30205628e-01, -9.98015941e-01, -9.26117121e-01,\n",
       "        -1.01239255e+00, -1.25265699e-01, -1.12949193e-01],\n",
       "       [-8.87612503e-01, -1.01595376e+00, -8.66119133e-01,\n",
       "        -9.74741168e-01, -1.28849870e-01, -1.17420323e-01],\n",
       "       [-8.45019378e-01, -1.02994359e+00, -8.06418449e-01,\n",
       "        -9.35900775e-01, -1.32047064e-01, -1.21508920e-01],\n",
       "       [-8.02426254e-01, -1.04001065e+00, -7.47100041e-01,\n",
       "        -8.95929325e-01, -1.34912738e-01, -1.25267357e-01],\n",
       "       [-7.59833129e-01, -1.04618921e+00, -6.88246108e-01,\n",
       "        -8.54888894e-01, -1.37492325e-01, -1.28738104e-01],\n",
       "       [-7.17240004e-01, -1.04852221e+00, -6.29935418e-01,\n",
       "        -8.12845344e-01, -1.39823410e-01, -1.31955915e-01],\n",
       "       [-6.74646879e-01, -1.04706076e+00, -5.72242711e-01,\n",
       "        -7.69867906e-01, -1.41937364e-01, -1.34949461e-01],\n",
       "       [-6.32053754e-01, -1.04186367e+00, -5.15238167e-01,\n",
       "        -7.26028678e-01, -1.43860583e-01, -1.37742583e-01],\n",
       "       [-5.89460630e-01, -1.03299708e+00, -4.58986941e-01,\n",
       "        -6.81402058e-01, -1.45615444e-01, -1.40355257e-01],\n",
       "       [-5.46867505e-01, -1.02053391e+00, -4.03548768e-01,\n",
       "        -6.36064127e-01, -1.47221043e-01, -1.42804337e-01],\n",
       "       [-5.04274380e-01, -1.00455347e+00, -3.48977655e-01,\n",
       "        -5.90091988e-01, -1.48693782e-01, -1.45104149e-01],\n",
       "       [-4.61681255e-01, -9.85140966e-01, -2.95321654e-01,\n",
       "        -5.43563048e-01, -1.50047831e-01, -1.47266987e-01],\n",
       "       [-4.19088130e-01, -9.62387094e-01, -2.42622670e-01,\n",
       "        -4.96554500e-01, -1.51295496e-01, -1.49303332e-01],\n",
       "       [-3.76495005e-01, -9.36387544e-01, -1.90916464e-01,\n",
       "        -4.49142228e-01, -1.52447519e-01, -1.51222432e-01],\n",
       "       [-3.33901881e-01, -9.07242553e-01, -1.40232538e-01,\n",
       "        -4.01400685e-01, -1.53513320e-01, -1.53032429e-01],\n",
       "       [-2.91308756e-01, -8.75056482e-01, -9.05942961e-02,\n",
       "        -3.53401905e-01, -1.54501194e-01, -1.54740280e-01],\n",
       "       [-2.48715631e-01, -8.39937332e-01, -4.20191340e-02,\n",
       "        -3.05214786e-01, -1.55418477e-01, -1.56352419e-01],\n",
       "       [-2.06122506e-01, -8.01996299e-01,  5.48138108e-03,\n",
       "        -2.56904956e-01, -1.56271679e-01, -1.57874360e-01],\n",
       "       [-1.63529381e-01, -7.61347318e-01,  5.19012632e-02,\n",
       "        -2.08534056e-01, -1.57066598e-01, -1.59311486e-01],\n",
       "       [-1.20936257e-01, -7.18106627e-01,  9.72398034e-02,\n",
       "        -1.60159454e-01, -1.57808415e-01, -1.60668130e-01],\n",
       "       [-7.83431317e-02, -6.72392283e-01,  1.41501266e-01,\n",
       "        -1.11833395e-01, -1.58501770e-01, -1.61948756e-01],\n",
       "       [-3.57500069e-02, -6.24323754e-01,  1.84694563e-01,\n",
       "        -6.36037120e-02, -1.59150836e-01, -1.63157433e-01],\n",
       "       [ 6.84311792e-03, -5.74021411e-01,  2.26832792e-01,\n",
       "        -1.55129690e-02, -1.59759369e-01, -1.64297708e-01],\n",
       "       [ 4.94362427e-02, -5.21606114e-01,  2.67932943e-01,\n",
       "         3.24016791e-02, -1.60330761e-01, -1.65372992e-01],\n",
       "       [ 9.20293676e-02, -4.67198751e-01,  3.08015427e-01,\n",
       "         8.01082019e-02, -1.60868083e-01, -1.66386700e-01],\n",
       "       [ 1.34622492e-01, -4.10919774e-01,  3.47103682e-01,\n",
       "         1.27579694e-01, -1.61374115e-01, -1.67341984e-01],\n",
       "       [ 1.77215617e-01, -3.52888760e-01,  3.85223757e-01,\n",
       "         1.74794517e-01, -1.61851385e-01, -1.68241599e-01],\n",
       "       [ 2.19808742e-01, -2.93223930e-01,  4.22403917e-01,\n",
       "         2.21735589e-01, -1.62302190e-01, -1.69088697e-01],\n",
       "       [ 2.62401867e-01, -2.32041742e-01,  4.58674205e-01,\n",
       "         2.68390951e-01, -1.62728622e-01, -1.69885642e-01],\n",
       "       [ 3.04994992e-01, -1.69456402e-01,  4.94066081e-01,\n",
       "         3.14752632e-01, -1.63132590e-01, -1.70635321e-01],\n",
       "       [ 3.47588116e-01, -1.05579417e-01,  5.28612030e-01,\n",
       "         3.60816645e-01, -1.63515832e-01, -1.71340099e-01],\n",
       "       [ 3.90181241e-01, -4.05191502e-02,  5.62345211e-01,\n",
       "         4.06582990e-01, -1.63879938e-01, -1.72002731e-01],\n",
       "       [ 4.32774366e-01,  2.56196448e-02,  5.95299066e-01,\n",
       "         4.52054515e-01, -1.64226359e-01, -1.72625320e-01],\n",
       "       [ 4.75367491e-01,  9.27362572e-02,  6.27507014e-01,\n",
       "         4.97237342e-01, -1.64556420e-01, -1.73210359e-01],\n",
       "       [ 5.17960616e-01,  1.60734499e-01,  6.59002134e-01,\n",
       "         5.42139298e-01, -1.64871335e-01, -1.73760080e-01],\n",
       "       [ 6.03146865e-01,  2.99016315e-01,  7.19982681e-01,\n",
       "         6.31142512e-01, -1.65460050e-01, -1.74762645e-01],\n",
       "       [ 6.45739990e-01,  3.69134128e-01,  7.49529909e-01,\n",
       "         6.75267157e-01, -1.65735782e-01, -1.75219718e-01],\n",
       "       [ 6.88333115e-01,  4.39802927e-01,  7.78487388e-01,\n",
       "         7.19156986e-01, -1.66000243e-01, -1.75650143e-01],\n",
       "       [ 7.30926240e-01,  5.10955856e-01,  8.06882278e-01,\n",
       "         7.62824189e-01, -1.66254195e-01, -1.76055977e-01],\n",
       "       [ 7.73519365e-01,  5.82533287e-01,  8.34739824e-01,\n",
       "         8.06280164e-01, -1.66498332e-01, -1.76439241e-01],\n",
       "       [ 8.16112489e-01,  6.54483272e-01,  8.62083149e-01,\n",
       "         8.49534966e-01, -1.66733280e-01, -1.76801921e-01],\n",
       "       [ 8.58705614e-01,  7.26761997e-01,  8.88933050e-01,\n",
       "         8.92596747e-01, -1.66959603e-01, -1.77145971e-01],\n",
       "       [ 9.01298739e-01,  7.99334234e-01,  9.15307814e-01,\n",
       "         9.35471192e-01, -1.67177810e-01, -1.77473319e-01],\n",
       "       [ 9.43891864e-01,  8.72173800e-01,  9.41223036e-01,\n",
       "         9.78160951e-01, -1.67388354e-01, -1.77785865e-01],\n",
       "       [ 9.86484989e-01,  9.45264000e-01,  9.66691451e-01,\n",
       "         1.02066506e+00, -1.67591638e-01, -1.78085481e-01],\n",
       "       [ 1.02907811e+00,  1.01859809e+00,  9.91722771e-01,\n",
       "         1.06297837e+00, -1.67788019e-01, -1.78374020e-01],\n",
       "       [ 1.07167124e+00,  1.09217973e+00,  1.01632354e+00,\n",
       "         1.10509096e+00, -1.67977805e-01, -1.78653311e-01],\n",
       "       [ 1.11426436e+00,  1.16602342e+00,  1.04049697e+00,\n",
       "         1.14698754e+00, -1.68161267e-01, -1.78925165e-01],\n",
       "       [ 1.15685749e+00,  1.24015497e+00,  1.06424282e+00,\n",
       "         1.18864687e+00, -1.68338630e-01, -1.79191373e-01],\n",
       "       [ 1.19945061e+00,  1.31461198e+00,  1.08755728e+00,\n",
       "         1.23004122e+00, -1.68510085e-01, -1.79453708e-01],\n",
       "       [ 1.24204374e+00,  1.38944421e+00,  1.11043280e+00,\n",
       "         1.27113569e+00, -1.68675783e-01, -1.79713927e-01],\n",
       "       [ 1.28463686e+00,  1.46471413e+00,  1.13285802e+00,\n",
       "         1.31188776e+00, -1.68835842e-01, -1.79973771e-01],\n",
       "       [ 1.32722999e+00,  1.54049731e+00,  1.15481767e+00,\n",
       "         1.35224662e+00, -1.68990346e-01, -1.80234963e-01],\n",
       "       [ 1.36982311e+00,  1.61688290e+00,  1.17629244e+00,\n",
       "         1.39215276e+00, -1.69139348e-01, -1.80499211e-01],\n",
       "       [ 1.41241624e+00,  1.69397407e+00,  1.19725892e+00,\n",
       "         1.43153735e+00, -1.69282870e-01, -1.80768205e-01],\n",
       "       [ 1.45500936e+00,  1.77188848e+00,  1.21768955e+00,\n",
       "         1.47032186e+00, -1.69420903e-01, -1.81043618e-01],\n",
       "       [ 1.49760249e+00,  1.85075870e+00,  1.23755256e+00,\n",
       "         1.50841764e+00, -1.69553411e-01, -1.81327102e-01],\n",
       "       [ 1.54019561e+00,  1.93073271e+00,  1.25681192e+00,\n",
       "         1.54572558e+00, -1.69680331e-01, -1.81620285e-01],\n",
       "       [ 1.58278874e+00,  2.01197432e+00,  1.27542736e+00,\n",
       "         1.58213584e+00, -1.69801573e-01, -1.81924773e-01],\n",
       "       [ 1.62538186e+00,  2.09466362e+00,  1.29335440e+00,\n",
       "         1.61752772e+00, -1.69917021e-01, -1.82242142e-01],\n",
       "       [ 1.66797499e+00,  2.17899748e+00,  1.31054433e+00,\n",
       "         1.65176964e+00, -1.70026534e-01, -1.82573936e-01],\n",
       "       [ 1.71056811e+00,  2.26518993e+00,  1.32694439e+00,\n",
       "         1.68471922e+00, -1.70129949e-01, -1.82921661e-01]])"
      ]
     },
     "execution_count": 170,
     "metadata": {},
     "output_type": "execute_result"
    }
   ],
   "source": [
    "X"
   ]
  },
  {
   "cell_type": "code",
   "execution_count": 171,
   "metadata": {},
   "outputs": [
    {
     "data": {
      "text/plain": [
       "array([1.57686527e+04, 7.32543360e+05, 2.93663735e+06, 6.61863238e+06,\n",
       "       1.17795796e+07, 1.84155237e+07, 2.65178197e+07, 3.60733280e+07,\n",
       "       4.70645738e+07, 5.94699092e+07, 7.32636938e+07, 8.84165030e+07,\n",
       "       1.04895367e+08, 1.22664041e+08, 1.41683306e+08, 1.61911293e+08,\n",
       "       1.83303833e+08, 2.05814814e+08, 2.29396561e+08, 2.54000204e+08,\n",
       "       2.79576058e+08, 3.06073985e+08, 3.33443740e+08, 3.61635311e+08,\n",
       "       3.90599219e+08, 4.20286805e+08, 4.50650479e+08, 4.81643941e+08,\n",
       "       5.13222371e+08, 5.45342588e+08, 5.77963174e+08, 6.11044570e+08,\n",
       "       6.44549146e+08, 6.78441236e+08, 7.12687162e+08, 7.47255222e+08,\n",
       "       7.82115675e+08, 8.17240690e+08, 8.52604302e+08, 8.88182340e+08,\n",
       "       9.23952358e+08, 9.59893552e+08, 9.95986673e+08, 1.03221394e+09,\n",
       "       1.06855896e+09, 1.10500661e+09, 1.14154299e+09, 1.17815530e+09,\n",
       "       1.21483176e+09, 1.25156156e+09, 1.28833475e+09, 1.32514218e+09,\n",
       "       1.36197542e+09, 1.43568894e+09, 1.47255549e+09, 1.50942028e+09,\n",
       "       1.54627767e+09, 1.58312247e+09, 1.61994984e+09, 1.65675531e+09,\n",
       "       1.69353472e+09, 1.73028423e+09, 1.76700026e+09, 1.80367951e+09,\n",
       "       1.84031891e+09, 1.87691566e+09, 1.91346717e+09, 1.94997111e+09,\n",
       "       1.98642536e+09, 2.02282805e+09, 2.05917756e+09, 2.09547249e+09,\n",
       "       2.13171173e+09, 2.16789442e+09, 2.20401999e+09, 2.24008818e+09,\n",
       "       2.27609904e+09, 2.31205293e+09, 2.34795060e+09, 2.38379312e+09])"
      ]
     },
     "execution_count": 171,
     "metadata": {},
     "output_type": "execute_result"
    }
   ],
   "source": [
    "Y"
   ]
  },
  {
   "cell_type": "code",
   "execution_count": 172,
   "metadata": {},
   "outputs": [],
   "source": [
    "from sklearn.model_selection import train_test_split"
   ]
  },
  {
   "cell_type": "code",
   "execution_count": 173,
   "metadata": {},
   "outputs": [],
   "source": [
    "X_Train, X_Test, Y_Train, Y_Test=train_test_split(X, Y, test_size=0.2)"
   ]
  },
  {
   "cell_type": "code",
   "execution_count": null,
   "metadata": {},
   "outputs": [],
   "source": []
  },
  {
   "cell_type": "code",
   "execution_count": 174,
   "metadata": {},
   "outputs": [],
   "source": [
    "import tensorflow as tf #imports the tensorflow api\n",
    "from tensorflow.keras import Sequential #imports the Sequential model from tensorflow keras framework\n",
    "from tensorflow.keras.layers import Dense #Dense command makes sure that the there is dense connection between the layers, i.e. each neuron is connected the each neuron on the next layer\n",
    "from tensorflow.keras.optimizers import Adam, SGD, RMSprop #Imports three neural network optimisers, SGD, i.e. stochastic gradient descent, the simplest of all, Adam and RMSprop"
   ]
  },
  {
   "cell_type": "code",
   "execution_count": 175,
   "metadata": {},
   "outputs": [
    {
     "name": "stdout",
     "output_type": "stream",
     "text": [
      "Epoch 1/100\n",
      "2/2 [==============================] - 0s 1ms/step - loss: 1531108149707145216.0000 - mae: 981052672.0000\n",
      "Epoch 2/100\n",
      "2/2 [==============================] - 0s 2ms/step - loss: 1531096604835053568.0000 - mae: 981047360.0000\n",
      "Epoch 3/100\n",
      "2/2 [==============================] - 0s 1ms/step - loss: 1530918346512400384.0000 - mae: 980976192.0000\n",
      "Epoch 4/100\n",
      "2/2 [==============================] - 0s 2ms/step - loss: 1530036125870063616.0000 - mae: 980617536.0000\n",
      "Epoch 5/100\n",
      "2/2 [==============================] - 0s 2ms/step - loss: 1526574176071057408.0000 - mae: 979282560.0000\n",
      "Epoch 6/100\n",
      "2/2 [==============================] - 0s 2ms/step - loss: 1515854212578148352.0000 - mae: 975370240.0000\n",
      "Epoch 7/100\n",
      "2/2 [==============================] - 0s 2ms/step - loss: 1490045513578315776.0000 - mae: 966370816.0000\n",
      "Epoch 8/100\n",
      "2/2 [==============================] - 0s 2ms/step - loss: 1435063335119749120.0000 - mae: 947108096.0000\n",
      "Epoch 9/100\n",
      "2/2 [==============================] - 0s 998us/step - loss: 1316511242633871360.0000 - mae: 906896384.0000\n",
      "Epoch 10/100\n",
      "2/2 [==============================] - 0s 2ms/step - loss: 1129810869702623232.0000 - mae: 843060096.0000\n",
      "Epoch 11/100\n",
      "2/2 [==============================] - 0s 1ms/step - loss: 853150379532091392.0000 - mae: 743417472.0000\n",
      "Epoch 12/100\n",
      "2/2 [==============================] - 0s 2ms/step - loss: 443773063452950528.0000 - mae: 559011712.0000\n",
      "Epoch 13/100\n",
      "2/2 [==============================] - 0s 2ms/step - loss: 100166686111432704.0000 - mae: 277681440.0000\n",
      "Epoch 14/100\n",
      "2/2 [==============================] - 0s 1ms/step - loss: 232969643294195712.0000 - mae: 385432576.0000\n",
      "Epoch 15/100\n",
      "2/2 [==============================] - 0s 1ms/step - loss: 306551538405343232.0000 - mae: 426605760.0000\n",
      "Epoch 16/100\n",
      "2/2 [==============================] - 0s 1ms/step - loss: 101306518892183552.0000 - mae: 252266592.0000\n",
      "Epoch 17/100\n",
      "2/2 [==============================] - 0s 1ms/step - loss: 45661390756642816.0000 - mae: 183913072.0000\n",
      "Epoch 18/100\n",
      "2/2 [==============================] - 0s 1ms/step - loss: 99933477977194496.0000 - mae: 280033216.0000\n",
      "Epoch 19/100\n",
      "2/2 [==============================] - 0s 1ms/step - loss: 133613134043676672.0000 - mae: 314420864.0000\n",
      "Epoch 20/100\n",
      "2/2 [==============================] - 0s 1ms/step - loss: 104850133199355904.0000 - mae: 277286208.0000\n",
      "Epoch 21/100\n",
      "2/2 [==============================] - 0s 2ms/step - loss: 42148055968907264.0000 - mae: 175105120.0000\n",
      "Epoch 22/100\n",
      "2/2 [==============================] - 0s 2ms/step - loss: 15087279513010176.0000 - mae: 90711440.0000\n",
      "Epoch 23/100\n",
      "2/2 [==============================] - 0s 2ms/step - loss: 41031218443059200.0000 - mae: 154464352.0000\n",
      "Epoch 24/100\n",
      "2/2 [==============================] - 0s 2ms/step - loss: 45414829569081344.0000 - mae: 159966624.0000\n",
      "Epoch 25/100\n",
      "2/2 [==============================] - 0s 2ms/step - loss: 14974401330020352.0000 - mae: 98948832.0000\n",
      "Epoch 26/100\n",
      "2/2 [==============================] - 0s 2ms/step - loss: 4111141621989376.0000 - mae: 52769024.0000\n",
      "Epoch 27/100\n",
      "2/2 [==============================] - 0s 2ms/step - loss: 16846131971489792.0000 - mae: 110494776.0000\n",
      "Epoch 28/100\n",
      "2/2 [==============================] - 0s 2ms/step - loss: 22350410660446208.0000 - mae: 124303584.0000\n",
      "Epoch 29/100\n",
      "2/2 [==============================] - 0s 2ms/step - loss: 13864122219233280.0000 - mae: 95193424.0000\n",
      "Epoch 30/100\n",
      "2/2 [==============================] - 0s 2ms/step - loss: 4694362747305984.0000 - mae: 56867888.0000\n",
      "Epoch 31/100\n",
      "2/2 [==============================] - 0s 2ms/step - loss: 6643527354155008.0000 - mae: 72191888.0000\n",
      "Epoch 32/100\n",
      "2/2 [==============================] - 0s 1ms/step - loss: 10388839767998464.0000 - mae: 91126424.0000\n",
      "Epoch 33/100\n",
      "2/2 [==============================] - 0s 2ms/step - loss: 6244828761292800.0000 - mae: 68207208.0000\n",
      "Epoch 34/100\n",
      "2/2 [==============================] - 0s 2ms/step - loss: 1677445111480320.0000 - mae: 35551192.0000\n",
      "Epoch 35/100\n",
      "2/2 [==============================] - 0s 2ms/step - loss: 3261059414622208.0000 - mae: 45570920.0000\n",
      "Epoch 36/100\n",
      "2/2 [==============================] - 0s 1ms/step - loss: 4721790945329152.0000 - mae: 55484480.0000\n",
      "Epoch 37/100\n",
      "2/2 [==============================] - 0s 2ms/step - loss: 3173312427458560.0000 - mae: 42725616.0000\n",
      "Epoch 38/100\n",
      "2/2 [==============================] - 0s 998us/step - loss: 1632862008770560.0000 - mae: 28991292.0000\n",
      "Epoch 39/100\n",
      "2/2 [==============================] - 0s 1ms/step - loss: 2387782236372992.0000 - mae: 40237428.0000\n",
      "Epoch 40/100\n",
      "2/2 [==============================] - 0s 1ms/step - loss: 3042756159078400.0000 - mae: 46469784.0000\n",
      "Epoch 41/100\n",
      "2/2 [==============================] - 0s 998us/step - loss: 2003358638407680.0000 - mae: 36682236.0000\n",
      "Epoch 42/100\n",
      "2/2 [==============================] - 0s 2ms/step - loss: 1421806510538752.0000 - mae: 30149908.0000\n",
      "Epoch 43/100\n",
      "2/2 [==============================] - 0s 1ms/step - loss: 1652281434963968.0000 - mae: 31737908.0000\n",
      "Epoch 44/100\n",
      "2/2 [==============================] - 0s 2ms/step - loss: 1702631202357248.0000 - mae: 32524988.0000\n",
      "Epoch 45/100\n",
      "2/2 [==============================] - 0s 1ms/step - loss: 1370401926021120.0000 - mae: 31097064.0000\n",
      "Epoch 46/100\n",
      "2/2 [==============================] - 0s 2ms/step - loss: 1145291952619520.0000 - mae: 27809692.0000\n",
      "Epoch 47/100\n",
      "2/2 [==============================] - 0s 2ms/step - loss: 1311825819860992.0000 - mae: 28603564.0000\n",
      "Epoch 48/100\n",
      "2/2 [==============================] - 0s 2ms/step - loss: 1226339059236864.0000 - mae: 27846476.0000\n",
      "Epoch 49/100\n",
      "2/2 [==============================] - 0s 2ms/step - loss: 1044808441266176.0000 - mae: 27393316.0000\n",
      "Epoch 50/100\n",
      "2/2 [==============================] - 0s 2ms/step - loss: 1042900804698112.0000 - mae: 27984552.0000\n",
      "Epoch 51/100\n",
      "2/2 [==============================] - 0s 2ms/step - loss: 1080848451371008.0000 - mae: 28048664.0000\n",
      "Epoch 52/100\n",
      "2/2 [==============================] - 0s 2ms/step - loss: 1024938915921920.0000 - mae: 27170568.0000\n",
      "Epoch 53/100\n",
      "2/2 [==============================] - 0s 2ms/step - loss: 931476937900032.0000 - mae: 24710898.0000\n",
      "Epoch 54/100\n",
      "2/2 [==============================] - 0s 2ms/step - loss: 953184776355840.0000 - mae: 23665872.0000\n",
      "Epoch 55/100\n",
      "2/2 [==============================] - 0s 1ms/step - loss: 945697037746176.0000 - mae: 22991770.0000\n",
      "Epoch 56/100\n",
      "2/2 [==============================] - 0s 1ms/step - loss: 891841973059584.0000 - mae: 22910554.0000\n",
      "Epoch 57/100\n",
      "2/2 [==============================] - 0s 2ms/step - loss: 875251789463552.0000 - mae: 23389444.0000\n",
      "Epoch 58/100\n",
      "2/2 [==============================] - 0s 1ms/step - loss: 871932853485568.0000 - mae: 23786496.0000\n",
      "Epoch 59/100\n",
      "2/2 [==============================] - 0s 2ms/step - loss: 855609092079616.0000 - mae: 23702424.0000\n",
      "Epoch 60/100\n",
      "2/2 [==============================] - 0s 1ms/step - loss: 828405641641984.0000 - mae: 23224158.0000\n",
      "Epoch 61/100\n",
      "2/2 [==============================] - 0s 1ms/step - loss: 812452925145088.0000 - mae: 22850050.0000\n",
      "Epoch 62/100\n",
      "2/2 [==============================] - 0s 2ms/step - loss: 802672345088000.0000 - mae: 22690348.0000\n",
      "Epoch 63/100\n",
      "2/2 [==============================] - 0s 2ms/step - loss: 790822396100608.0000 - mae: 22645992.0000\n",
      "Epoch 64/100\n",
      "2/2 [==============================] - 0s 1ms/step - loss: 779396440915968.0000 - mae: 22630160.0000\n",
      "Epoch 65/100\n",
      "2/2 [==============================] - 0s 1ms/step - loss: 766213307236352.0000 - mae: 22644374.0000\n",
      "Epoch 66/100\n",
      "2/2 [==============================] - 0s 1ms/step - loss: 754967606460416.0000 - mae: 22451002.0000\n",
      "Epoch 67/100\n",
      "2/2 [==============================] - 0s 1ms/step - loss: 743340526010368.0000 - mae: 22122940.0000\n",
      "Epoch 68/100\n",
      "2/2 [==============================] - 0s 1ms/step - loss: 731875580575744.0000 - mae: 21696960.0000\n",
      "Epoch 69/100\n",
      "2/2 [==============================] - 0s 1ms/step - loss: 721718721118208.0000 - mae: 21386760.0000\n",
      "Epoch 70/100\n",
      "2/2 [==============================] - 0s 2ms/step - loss: 713718740549632.0000 - mae: 21135874.0000\n",
      "Epoch 71/100\n"
     ]
    },
    {
     "name": "stdout",
     "output_type": "stream",
     "text": [
      "2/2 [==============================] - 0s 1ms/step - loss: 704208340779008.0000 - mae: 20980464.0000\n",
      "Epoch 72/100\n",
      "2/2 [==============================] - 0s 1ms/step - loss: 697540135616512.0000 - mae: 21090176.0000\n",
      "Epoch 73/100\n",
      "2/2 [==============================] - 0s 1ms/step - loss: 689394864357376.0000 - mae: 21089044.0000\n",
      "Epoch 74/100\n",
      "2/2 [==============================] - 0s 1ms/step - loss: 679599788785664.0000 - mae: 20854180.0000\n",
      "Epoch 75/100\n",
      "2/2 [==============================] - 0s 1ms/step - loss: 668166988496896.0000 - mae: 20150744.0000\n",
      "Epoch 76/100\n",
      "2/2 [==============================] - 0s 1ms/step - loss: 660196602937344.0000 - mae: 20062516.0000\n",
      "Epoch 77/100\n",
      "2/2 [==============================] - 0s 1ms/step - loss: 648580863885312.0000 - mae: 20022216.0000\n",
      "Epoch 78/100\n",
      "2/2 [==============================] - 0s 1ms/step - loss: 640020255866880.0000 - mae: 20048236.0000\n",
      "Epoch 79/100\n",
      "2/2 [==============================] - 0s 1ms/step - loss: 639099723579392.0000 - mae: 20109788.0000\n",
      "Epoch 80/100\n",
      "2/2 [==============================] - 0s 1ms/step - loss: 630353425334272.0000 - mae: 19929972.0000\n",
      "Epoch 81/100\n",
      "2/2 [==============================] - 0s 997us/step - loss: 617659246837760.0000 - mae: 19566472.0000\n",
      "Epoch 82/100\n",
      "2/2 [==============================] - 0s 1ms/step - loss: 614549153644544.0000 - mae: 19573742.0000\n",
      "Epoch 83/100\n",
      "2/2 [==============================] - 0s 997us/step - loss: 604850849054720.0000 - mae: 19264576.0000\n",
      "Epoch 84/100\n",
      "2/2 [==============================] - 0s 998us/step - loss: 593974649683968.0000 - mae: 18875986.0000\n",
      "Epoch 85/100\n",
      "2/2 [==============================] - 0s 2ms/step - loss: 586731254448128.0000 - mae: 18610248.0000\n",
      "Epoch 86/100\n",
      "2/2 [==============================] - 0s 1ms/step - loss: 581169137582080.0000 - mae: 18483108.0000\n",
      "Epoch 87/100\n",
      "2/2 [==============================] - 0s 1ms/step - loss: 572507329396736.0000 - mae: 18403484.0000\n",
      "Epoch 88/100\n",
      "2/2 [==============================] - 0s 2ms/step - loss: 565791745376256.0000 - mae: 18313156.0000\n",
      "Epoch 89/100\n",
      "2/2 [==============================] - 0s 2ms/step - loss: 566146214395904.0000 - mae: 18208928.0000\n",
      "Epoch 90/100\n",
      "2/2 [==============================] - 0s 2ms/step - loss: 551809278017536.0000 - mae: 17899466.0000\n",
      "Epoch 91/100\n",
      "2/2 [==============================] - 0s 1ms/step - loss: 543549451927552.0000 - mae: 17816006.0000\n",
      "Epoch 92/100\n",
      "2/2 [==============================] - 0s 1ms/step - loss: 537910528966656.0000 - mae: 17792740.0000\n",
      "Epoch 93/100\n",
      "2/2 [==============================] - 0s 1ms/step - loss: 531934618845184.0000 - mae: 17645412.0000\n",
      "Epoch 94/100\n",
      "2/2 [==============================] - 0s 1ms/step - loss: 524886611066880.0000 - mae: 17405156.0000\n",
      "Epoch 95/100\n",
      "2/2 [==============================] - 0s 1ms/step - loss: 519326977228800.0000 - mae: 17406922.0000\n",
      "Epoch 96/100\n",
      "2/2 [==============================] - 0s 2ms/step - loss: 512178205491200.0000 - mae: 17207216.0000\n",
      "Epoch 97/100\n",
      "2/2 [==============================] - ETA: 0s - loss: 467788913180672.0000 - mae: 16913674.00 - 0s 1ms/step - loss: 504712646361088.0000 - mae: 16970914.0000\n",
      "Epoch 98/100\n",
      "2/2 [==============================] - 0s 1ms/step - loss: 499388094873600.0000 - mae: 16832436.0000\n",
      "Epoch 99/100\n",
      "2/2 [==============================] - 0s 1ms/step - loss: 495350389407744.0000 - mae: 16753533.0000\n",
      "Epoch 100/100\n",
      "2/2 [==============================] - 0s 2ms/step - loss: 488454349651968.0000 - mae: 16607918.0000\n"
     ]
    }
   ],
   "source": [
    "model = tf.keras.Sequential() \n",
    "model.add(Dense(10, activation=tf.nn.relu, input_shape=(6,)))\n",
    "model.add(Dense(10, activation=tf.nn.relu))\n",
    "model.add(Dense(5, activation=tf.nn.relu))\n",
    "model.add(Dense(5, activation=tf.nn.relu))\n",
    "model.add(Dense(1, activation=tf.nn.relu))\n",
    "\n",
    "opt = Adam(learning_rate=0.8)\n",
    "opt2=SGD(learning_rate=0.1)\n",
    "opt3=RMSprop()\n",
    "\n",
    "loss1='mse'\n",
    "loss2='mean_squared_logarithmic_error'\n",
    "\n",
    "model.compile(optimizer=opt, loss=loss1, metrics=['mae']) #mse stands for mean square error loss/cost function\n",
    "hist = model.fit(X_Train,Y_Train, epochs=100) #storing the output of sequential model in a list named hist "
   ]
  },
  {
   "cell_type": "code",
   "execution_count": 176,
   "metadata": {},
   "outputs": [
    {
     "data": {
      "text/plain": [
       "<matplotlib.legend.Legend at 0x25a182be948>"
      ]
     },
     "execution_count": 176,
     "metadata": {},
     "output_type": "execute_result"
    },
    {
     "data": {
      "image/png": "[encoded data removed]",
      "text/plain": [
       "<Figure size 432x288 with 1 Axes>"
      ]
     },
     "metadata": {
      "needs_background": "light"
     },
     "output_type": "display_data"
    }
   ],
   "source": [
    "plt.title('Loss / Mean Squared Error')\n",
    "plt.plot(hist.history['loss'], label='train')\n",
    "plt.legend()"
   ]
  },
  {
   "cell_type": "code",
   "execution_count": 177,
   "metadata": {},
   "outputs": [
    {
     "name": "stdout",
     "output_type": "stream",
     "text": [
      "WARNING:tensorflow:5 out of the last 13 calls to <function Model.make_predict_function.<locals>.predict_function at 0x0000025A180DA4C8> triggered tf.function retracing. Tracing is expensive and the excessive number of tracings could be due to (1) creating @tf.function repeatedly in a loop, (2) passing tensors with different shapes, (3) passing Python objects instead of tensors. For (1), please define your @tf.function outside of the loop. For (2), @tf.function has experimental_relax_shapes=True option that relaxes argument shapes that can avoid unnecessary retracing. For (3), please refer to https://www.tensorflow.org/tutorials/customization/performance#python_or_tensor_args and https://www.tensorflow.org/api_docs/python/tf/function for  more details.\n",
      "WARNING:tensorflow:5 out of the last 12 calls to <function Model.make_predict_function.<locals>.predict_function at 0x0000025A180DA4C8> triggered tf.function retracing. Tracing is expensive and the excessive number of tracings could be due to (1) creating @tf.function repeatedly in a loop, (2) passing tensors with different shapes, (3) passing Python objects instead of tensors. For (1), please define your @tf.function outside of the loop. For (2), @tf.function has experimental_relax_shapes=True option that relaxes argument shapes that can avoid unnecessary retracing. For (3), please refer to https://www.tensorflow.org/tutorials/customization/performance#python_or_tensor_args and https://www.tensorflow.org/api_docs/python/tf/function for  more details.\n"
     ]
    }
   ],
   "source": [
    "from sklearn.metrics import r2_score\n",
    "M=model.predict(X_Train)\n",
    "N=model.predict(X_Test)"
   ]
  },
  {
   "cell_type": "code",
   "execution_count": 178,
   "metadata": {},
   "outputs": [
    {
     "name": "stdout",
     "output_type": "stream",
     "text": [
      "0.99915054025145\n"
     ]
    }
   ],
   "source": [
    "print(r2_score(Y_Train, M))"
   ]
  },
  {
   "cell_type": "code",
   "execution_count": 179,
   "metadata": {},
   "outputs": [
    {
     "name": "stdout",
     "output_type": "stream",
     "text": [
      "0.9993876785131464\n"
     ]
    }
   ],
   "source": [
    "print(r2_score(Y_Test,N))"
   ]
  },
  {
   "cell_type": "code",
   "execution_count": 182,
   "metadata": {},
   "outputs": [
    {
     "data": {
      "text/plain": [
       "<matplotlib.legend.Legend at 0x25a1967bf88>"
      ]
     },
     "execution_count": 182,
     "metadata": {},
     "output_type": "execute_result"
    },
    {
     "data": {
      "image/png": "[encoded data removed]",
      "text/plain": [
       "<Figure size 432x288 with 1 Axes>"
      ]
     },
     "metadata": {
      "needs_background": "light"
     },
     "output_type": "display_data"
    }
   ],
   "source": [
    "plt.title('Predicted m(p)_train')\n",
    "plt.plot(M, label='Prediction')\n",
    "plt.plot(Y_Train, label='True')\n",
    "plt.legend()"
   ]
  },
  {
   "cell_type": "code",
   "execution_count": 183,
   "metadata": {},
   "outputs": [
    {
     "data": {
      "text/plain": [
       "<matplotlib.legend.Legend at 0x25a196e4788>"
      ]
     },
     "execution_count": 183,
     "metadata": {},
     "output_type": "execute_result"
    },
    {
     "data": {
      "image/png": "[encoded data removed]",
      "text/plain": [
       "<Figure size 432x288 with 1 Axes>"
      ]
     },
     "metadata": {
      "needs_background": "light"
     },
     "output_type": "display_data"
    }
   ],
   "source": [
    "plt.title('Predicted m(p)_test')\n",
    "plt.plot(N, label='predicted')\n",
    "plt.plot(Y_Test, label='true')\n",
    "plt.legend()"
   ]
  },
  {
   "cell_type": "code",
   "execution_count": null,
   "metadata": {},
   "outputs": [],
   "source": []
  }
 ],
 "metadata": {
  "kernelspec": {
   "display_name": "Python 3",
   "language": "python",
   "name": "python3"
  },
  "language_info": {
   "codemirror_mode": {
    "name": "ipython",
    "version": 3
   },
   "file_extension": ".py",
   "mimetype": "text/x-python",
   "name": "python",
   "nbconvert_exporter": "python",
   "pygments_lexer": "ipython3",
   "version": "3.7.4"
  }
 },
 "nbformat": 4,
 "nbformat_minor": 4
}
